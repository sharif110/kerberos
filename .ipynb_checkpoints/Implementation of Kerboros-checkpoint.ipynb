{
 "cells": [
  {
   "cell_type": "code",
   "execution_count": 22,
   "id": "2935c370",
   "metadata": {},
   "outputs": [],
   "source": [
    "from cryptography.hazmat.primitives import hashes\n",
    "from cryptography.fernet import Fernet\n",
    "from cryptography.hazmat.backends import default_backend\n",
    "from cryptography.hazmat.primitives import serialization\n",
    "from cryptography.hazmat.primitives.ciphers import Cipher, algorithms, modes\n",
    "from cryptography.hazmat.primitives.asymmetric import rsa, padding\n",
    "\n"
   ]
  },
  {
   "cell_type": "code",
   "execution_count": 23,
   "id": "9712bf52",
   "metadata": {},
   "outputs": [],
   "source": [
    "# Simplified representation of a user database\n",
    "user_database = {'sharif': {'password': 'password123', 'salt': b'somesalt'}}"
   ]
  },
  {
   "cell_type": "code",
   "execution_count": 24,
   "id": "40cc76fc",
   "metadata": {},
   "outputs": [],
   "source": [
    "# Simplified representation of the Key Distribution Center (KDC)\n",
    "def generate_ticket_granting_ticket(username):\n",
    "    # Generate TGT with session key\n",
    "    private_key = rsa.generate_private_key(public_exponent=65537, key_size=2048, backend=default_backend())\n",
    "    public_key = private_key.public_key()\n",
    "\n",
    "    # Serialize public key\n",
    "    public_key_bytes = public_key.public_bytes(encoding=serialization.Encoding.PEM, format=serialization.PublicFormat.SubjectPublicKeyInfo)\n",
    "\n",
    "    # Return TGT\n",
    "    return {\n",
    "        'username': username,\n",
    "        'session_key': private_key,\n",
    "        'public_key': public_key_bytes\n",
    "    }"
   ]
  },
  {
   "cell_type": "code",
   "execution_count": 25,
   "id": "81268b67",
   "metadata": {},
   "outputs": [],
   "source": [
    "def generate_service_ticket(tgt, service):\n",
    "    # Generate service ticket with a new session key\n",
    "    service_session_key = Fernet.generate_key()\n",
    "    \n",
    "    # Ensure the key size is compatible with AES (128, 192, or 256 bits)\n",
    "    service_session_key = service_session_key[:32]  # Use the first 32 bytes for a 256-bit key\n",
    "    \n",
    "    # Use the public key for encryption\n",
    "    public_key = serialization.load_pem_public_key(tgt['public_key'], backend=default_backend())\n",
    "    encrypted_service_session_key = public_key.encrypt(\n",
    "        service_session_key,\n",
    "        padding.OAEP(mgf=padding.MGF1(algorithm=hashes.SHA256()), algorithm=hashes.SHA256(), label=None)\n",
    "    )\n",
    "    \n",
    "    # Return service ticket\n",
    "    return {\n",
    "        'username': tgt['username'],\n",
    "        'encrypted_service_session_key': encrypted_service_session_key,\n",
    "        'service_session_key': service_session_key,\n",
    "    }"
   ]
  },
  {
   "cell_type": "code",
   "execution_count": 26,
   "id": "06dbe617",
   "metadata": {},
   "outputs": [
    {
     "name": "stdout",
     "output_type": "stream",
     "text": [
      "Enter username: sharif\n",
      "Enter password: password123\n",
      "Available services: File Server, Email Server\n",
      "Enter the service you want to access: File Server\n",
      "Welcome, sharif! You have successfully obtained a service ticket for File Server.\n",
      "\n",
      "Your decrypted service session key for File Server: b'WEGCoh3cT_v24iF6OxANCidtfGMq3qjm'\n",
      "\n",
      "Sample Message: Hello, this is a sample message for encryption and decryption.\n",
      "\n",
      "Padded Message: b'Hello, this is a sample message for encryption and decryption.\\x00\\x00'\n",
      "\n",
      "Encrypted Message: b'\\xb0zJ\\x87\\x8e#f\\x02\\x13~\\xdb?\\x93\\n\\xd3\\x96\\x03K\\x04\\xfbKuG\\xf1J^\\r\\xd1\\xaf~\\\\\\xce\\x96\\xa1G\\xb0\\x97\\xfcvDz\\xcb\\xd6#\\xc3\\xb8A\\x94\\xefN\\xb4k\\x9c\\xc2\\xbf\\x03b\\x95o)\\x1dZ\\xdf\\x89'\n",
      "\n",
      "Decrypted Message: Hello, this is a sample message for encryption and decryption.\n"
     ]
    }
   ],
   "source": [
    "\n",
    "\n",
    "def main():\n",
    "    # User authentication\n",
    "    username = input(\"Enter username: \")\n",
    "    password = input(\"Enter password: \")\n",
    "\n",
    "    # Verify user credentials (this is a simplified example; use secure methods in practice)\n",
    "    user = user_database.get(username)\n",
    "    if not user or user['password'] != password:\n",
    "        print(\"Invalid credentials\")\n",
    "        return\n",
    "\n",
    "    # Generate TGT\n",
    "    tgt = generate_ticket_granting_ticket(username)\n",
    "\n",
    "    # Request service ticket\n",
    "    print(\"Available services: File Server, Email Server\")\n",
    "    service = input(\"Enter the service you want to access: \")\n",
    "\n",
    "    # Generate service ticket\n",
    "    service_ticket = generate_service_ticket(tgt, service)\n",
    "\n",
    "    # Simulate service server validation (decrypt service ticket)\n",
    "    decrypted_service_session_key = tgt['session_key'].decrypt(\n",
    "        service_ticket['encrypted_service_session_key'],\n",
    "        padding.OAEP(mgf=padding.MGF1(algorithm=hashes.SHA256()), algorithm=hashes.SHA256(), label=None)\n",
    "    )\n",
    "\n",
    "    # Simulate using the decrypted service session key to encrypt and decrypt a message\n",
    "    sample_message = b\"Hello, this is a sample message for encryption and decryption.\"\n",
    "\n",
    "    # Pad the sample message to ensure its length is a multiple of the block size\n",
    "    block_size = 16  # 128 bits for AES\n",
    "    padded_message = sample_message + b'\\0' * (block_size - len(sample_message) % block_size)\n",
    "\n",
    "    # Encrypt the message using the decrypted service session key\n",
    "    cipher = Cipher(algorithms.AES(decrypted_service_session_key), modes.ECB(), backend=default_backend())\n",
    "    encryptor = cipher.encryptor()\n",
    "    encrypted_message = encryptor.update(padded_message) + encryptor.finalize()\n",
    "\n",
    "    # Decrypt the message using the decrypted service session key\n",
    "    decryptor = cipher.decryptor()\n",
    "    decrypted_message = decryptor.update(encrypted_message) + decryptor.finalize()\n",
    "\n",
    "    print(f\"Welcome, {username}! You have successfully obtained a service ticket for {service}.\\n\")\n",
    "    print(f\"Your decrypted service session key for {service}: {decrypted_service_session_key}\\n\")\n",
    "    print(f\"Sample Message: {sample_message.decode()}\\n\")\n",
    "    print(f\"Padded Message: {padded_message}\\n\")\n",
    "    print(f\"Encrypted Message: {encrypted_message}\\n\")\n",
    "    print(\"Decrypted Message:\", decrypted_message.decode().rstrip('\\0'))\n",
    "\n",
    "if __name__ == \"__main__\":\n",
    "    main()\n"
   ]
  },
  {
   "cell_type": "code",
   "execution_count": null,
   "id": "11e7b4c3",
   "metadata": {},
   "outputs": [],
   "source": []
  }
 ],
 "metadata": {
  "kernelspec": {
   "display_name": "Python 3 (ipykernel)",
   "language": "python",
   "name": "python3"
  },
  "language_info": {
   "codemirror_mode": {
    "name": "ipython",
    "version": 3
   },
   "file_extension": ".py",
   "mimetype": "text/x-python",
   "name": "python",
   "nbconvert_exporter": "python",
   "pygments_lexer": "ipython3",
   "version": "3.11.5"
  }
 },
 "nbformat": 4,
 "nbformat_minor": 5
}
